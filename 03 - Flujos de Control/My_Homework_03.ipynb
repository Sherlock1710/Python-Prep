{
 "cells": [
  {
   "attachments": {},
   "cell_type": "markdown",
   "metadata": {},
   "source": [
    "#1) Crear una variable que contenga un elemento del conjunto de números enteros y luego imprimir por pantalla si es mayor o menor a cero\n"
   ]
  },
  {
   "cell_type": "code",
   "execution_count": 4,
   "metadata": {},
   "outputs": [
    {
     "name": "stdout",
     "output_type": "stream",
     "text": [
      "El numero es menor a cero\n"
     ]
    }
   ],
   "source": [
    "int_num = int(input(\"Ingresa un numero entero\"))\n",
    "if(int_num < 0 ):\n",
    "    print(\"El numero es menor a cero\")\n",
    "elif(int_num > 0):\n",
    "    print(\"El numero es mayor a cero\")\n",
    "else:\n",
    "    print(\"El numero es cero\")"
   ]
  },
  {
   "attachments": {},
   "cell_type": "markdown",
   "metadata": {},
   "source": [
    "#2) Crear dos variables y un condicional que informe si son del mismo tipo de dato\n"
   ]
  },
  {
   "cell_type": "code",
   "execution_count": 5,
   "metadata": {},
   "outputs": [
    {
     "name": "stdout",
     "output_type": "stream",
     "text": [
      "Son de distinto tipo\n"
     ]
    }
   ],
   "source": [
    "var_bool = True\n",
    "var_str = \"Hello\"\n",
    "if(type(var_bool) == type(var_str)):\n",
    "    print(\"Son del mismo tipo\")\n",
    "else:\n",
    "    print(\"Son de distinto tipo\")"
   ]
  },
  {
   "cell_type": "markdown",
   "metadata": {},
   "source": [
    "#3) Para los valores enteros del 1 al 20, imprimir por pantalla si es par o impar\n"
   ]
  },
  {
   "cell_type": "code",
   "execution_count": 7,
   "metadata": {},
   "outputs": [
    {
     "name": "stdout",
     "output_type": "stream",
     "text": [
      "1 es impar\n",
      "2 es par\n",
      "3 es impar\n",
      "4 es par\n",
      "5 es impar\n",
      "6 es par\n",
      "7 es impar\n",
      "8 es par\n",
      "9 es impar\n",
      "10 es par\n",
      "11 es impar\n",
      "12 es par\n",
      "13 es impar\n",
      "14 es par\n",
      "15 es impar\n",
      "16 es par\n",
      "17 es impar\n",
      "18 es par\n",
      "19 es impar\n",
      "20 es par\n"
     ]
    }
   ],
   "source": [
    "for n in range(1,21):\n",
    "    if(n%2 == 0):\n",
    "        print(n,\"es par\")\n",
    "    else:\n",
    "        print(n,\"es impar\")"
   ]
  },
  {
   "attachments": {},
   "cell_type": "markdown",
   "metadata": {},
   "source": [
    "#4) En un ciclo for mostrar para los valores entre 0 y 5 el resultado de elevarlo a la potencia igual a 3\n"
   ]
  },
  {
   "cell_type": "code",
   "execution_count": 8,
   "metadata": {},
   "outputs": [
    {
     "name": "stdout",
     "output_type": "stream",
     "text": [
      "0 elevado al cubo: 0\n",
      "1 elevado al cubo: 1\n",
      "2 elevado al cubo: 8\n",
      "3 elevado al cubo: 27\n",
      "4 elevado al cubo: 64\n",
      "5 elevado al cubo: 125\n"
     ]
    }
   ],
   "source": [
    "for n in range(0,6):\n",
    "    print(n,\"elevado al cubo:\",n**3)"
   ]
  },
  {
   "attachments": {},
   "cell_type": "markdown",
   "metadata": {},
   "source": [
    "#5) Crear una variable que contenga un número entero y realizar un ciclo for la misma cantidad de ciclos\n"
   ]
  },
  {
   "cell_type": "code",
   "execution_count": 15,
   "metadata": {},
   "outputs": [
    {
     "name": "stdout",
     "output_type": "stream",
     "text": [
      "ciclo numero: 1\n",
      "ciclo numero: 2\n",
      "ciclo numero: 3\n",
      "ciclo numero: 4\n",
      "ciclo numero: 5\n"
     ]
    }
   ],
   "source": [
    "n = 5\n",
    "\n",
    "for n in range(1,n+1):\n",
    "    print('ciclo for numero:',n)"
   ]
  },
  {
   "attachments": {},
   "cell_type": "markdown",
   "metadata": {},
   "source": [
    "#6) Utilizar un ciclo while para realizar el factorial de un número guardado en una variable, sólo si la variable contiene un número entero mayor a 0\n"
   ]
  },
  {
   "cell_type": "code",
   "execution_count": 21,
   "metadata": {},
   "outputs": [
    {
     "name": "stdout",
     "output_type": "stream",
     "text": [
      "El numero debe ser mayor o igual a cero\n"
     ]
    }
   ],
   "source": [
    "n = int(input(\"Ingresa un numero\"))\n",
    "if(n > 0):\n",
    "    f = 1\n",
    "    x = 1\n",
    "    while x <= n:\n",
    "        f = f*x\n",
    "        x += 1\n",
    "    print(\"El factorial de\",n,\"es\",f)\n",
    "elif(n == 0):\n",
    "    print(\"El factorial de\",n,\"es 1\")\n",
    "else:\n",
    "    print(\"El numero debe ser mayor o igual a cero\")"
   ]
  },
  {
   "attachments": {},
   "cell_type": "markdown",
   "metadata": {},
   "source": [
    "#7) Crear un ciclo for dentro de un ciclo while\n"
   ]
  },
  {
   "cell_type": "code",
   "execution_count": 16,
   "metadata": {},
   "outputs": [
    {
     "name": "stdout",
     "output_type": "stream",
     "text": [
      "Bucle while numero 1\n",
      "Ciclo for numero 2\n",
      "Bucle while numero 2\n",
      "Ciclo for numero 3\n",
      "Bucle while numero 3\n",
      "Ciclo for numero 4\n",
      "Bucle while numero 4\n",
      "Ciclo for numero 5\n",
      "Bucle while numero 5\n",
      "Ciclo for numero 6\n",
      "Bucle while numero 6\n",
      "Ciclo for numero 7\n",
      "Bucle while numero 7\n",
      "Ciclo for numero 8\n",
      "Bucle while numero 8\n",
      "Ciclo for numero 9\n",
      "Bucle while numero 9\n",
      "Ciclo for numero 10\n",
      "Bucle while numero 10\n",
      "Ciclo for numero 11\n"
     ]
    }
   ],
   "source": [
    "x = 1\n",
    "\n",
    "while x < 11:\n",
    "    print(\"Bucle while numero\",x)\n",
    "    x += 1\n",
    "    for n in range(0,10):\n",
    "        print(\"Ciclo for numero\",x)\n",
    "        break\n",
    "        "
   ]
  },
  {
   "attachments": {},
   "cell_type": "markdown",
   "metadata": {},
   "source": [
    "#8) Crear un ciclo while dentro de un ciclo for\n"
   ]
  },
  {
   "cell_type": "code",
   "execution_count": 21,
   "metadata": {},
   "outputs": [
    {
     "name": "stdout",
     "output_type": "stream",
     "text": [
      "Hola\n",
      "Hola\n",
      "Hola\n",
      "Hola\n",
      "Hola\n",
      "Hola\n",
      "Hola\n",
      "Hola\n",
      "Hola\n",
      "Hola\n"
     ]
    }
   ],
   "source": [
    "for n in range(1,11):\n",
    "    x=1\n",
    "    while x <= 5:\n",
    "        x += 1\n",
    "        print(\"Hola\")\n",
    "        break"
   ]
  },
  {
   "attachments": {},
   "cell_type": "markdown",
   "metadata": {},
   "source": [
    "#9) Imprimir los números primos existentes entre 0 y 30\n"
   ]
  },
  {
   "cell_type": "code",
   "execution_count": 2,
   "metadata": {},
   "outputs": [
    {
     "name": "stdout",
     "output_type": "stream",
     "text": [
      "0\n",
      "1\n",
      "2\n",
      "3\n",
      "5\n",
      "7\n",
      "11\n",
      "13\n",
      "17\n",
      "19\n",
      "23\n",
      "29\n"
     ]
    }
   ],
   "source": [
    "range_top = 30\n",
    "range_min = 0\n",
    "is_prime = True\n",
    "while (range_min < range_top):\n",
    "    for div in range(2, range_min):\n",
    "        if (range_min % div == 0):\n",
    "            is_prime = False\n",
    "    if (is_prime):\n",
    "        print(range_min)\n",
    "    else:\n",
    "        is_prime = True\n",
    "    range_min += 1"
   ]
  },
  {
   "attachments": {},
   "cell_type": "markdown",
   "metadata": {},
   "source": [
    "#10) ¿Se puede mejorar el proceso del punto 9? Utilizar las sentencias break y/ó continue para tal fin\n"
   ]
  },
  {
   "cell_type": "code",
   "execution_count": 2,
   "metadata": {},
   "outputs": [
    {
     "name": "stdout",
     "output_type": "stream",
     "text": [
      "0\n",
      "1\n",
      "2\n",
      "3\n",
      "5\n",
      "7\n",
      "11\n",
      "13\n",
      "17\n",
      "19\n",
      "23\n",
      "29\n",
      "31\n",
      "37\n",
      "41\n",
      "43\n",
      "47\n",
      "53\n",
      "59\n",
      "61\n",
      "67\n",
      "71\n",
      "73\n",
      "79\n",
      "83\n",
      "89\n",
      "97\n"
     ]
    }
   ],
   "source": [
    "# ya esta optimizado \n",
    "range_top = 100\n",
    "range_min = 0\n",
    "is_prime = True\n",
    "while (range_min < range_top):\n",
    "    for div in range(2, range_min):\n",
    "        if (range_min % div == 0):\n",
    "            is_prime = False\n",
    "    if (is_prime):\n",
    "        print(range_min)\n",
    "    else:\n",
    "        is_prime = True\n",
    "    range_min += 1"
   ]
  },
  {
   "attachments": {},
   "cell_type": "markdown",
   "metadata": {},
   "source": [
    "#11) En los puntos 9 y 10, se diseño un código que encuentra números primos y además se lo optimizó. ¿Es posible saber en qué medida se optimizó?\n",
    "\n",
    "R = Si se optimiza en cuanto a la cantidad de memoria usada"
   ]
  },
  {
   "attachments": {},
   "cell_type": "markdown",
   "metadata": {},
   "source": [
    "12) Si la cantidad de números que se evalúa es mayor a treinta, esa optimización crece?\n",
    "  \n",
    "  R = Sí, mientras mas datos mas se nota la optimizacion"
   ]
  },
  {
   "attachments": {},
   "cell_type": "markdown",
   "metadata": {},
   "source": [
    "#13) Aplicando continue, armar un ciclo while que solo imprima los valores divisibles por 12, dentro del rango de números de 100 a 300\n",
    "\n"
   ]
  },
  {
   "cell_type": "code",
   "execution_count": 11,
   "metadata": {},
   "outputs": [
    {
     "name": "stdout",
     "output_type": "stream",
     "text": [
      "108\n",
      "120\n",
      "132\n",
      "144\n",
      "156\n",
      "168\n",
      "180\n",
      "192\n",
      "204\n",
      "216\n",
      "228\n",
      "240\n",
      "252\n",
      "264\n",
      "276\n",
      "288\n",
      "300\n"
     ]
    }
   ],
   "source": [
    "n = 99\n",
    "while n <= 300:\n",
    "    if n %12 != 0:\n",
    "        n+=1\n",
    "        continue\n",
    "    else:\n",
    "        print(n)\n",
    "        n+=1\n",
    "    "
   ]
  },
  {
   "attachments": {},
   "cell_type": "markdown",
   "metadata": {},
   "source": [
    "#14) Utilizar la función **input()** que permite hacer ingresos por teclado, para encontrar números primos y dar la opción al usario de buscar el siguiente"
   ]
  },
  {
   "cell_type": "code",
   "execution_count": 16,
   "metadata": {},
   "outputs": [
    {
     "name": "stdout",
     "output_type": "stream",
     "text": [
      "69  no es primo\n"
     ]
    }
   ],
   "source": [
    "n = int(input(\"Ingresa un numero\"))\n",
    "prime = True\n",
    "for remain in range(2,n):\n",
    "        if n % remain==0 or n%3==0 or n%5==0:\n",
    "            print(n,\" no es primo\")\n",
    "            prime = False\n",
    "        if prime:\n",
    "            print(n,\" es primo\")\n",
    "        else:\n",
    "            prime = True\n",
    "        break\n"
   ]
  },
  {
   "attachments": {},
   "cell_type": "markdown",
   "metadata": {},
   "source": [
    "#15) Crear un ciclo while que encuentre dentro del rango de 100 a 300 el primer número divisible por 3 y además múltiplo de 6"
   ]
  },
  {
   "cell_type": "code",
   "execution_count": 1,
   "metadata": {},
   "outputs": [
    {
     "name": "stdout",
     "output_type": "stream",
     "text": [
      "El numero es 108\n"
     ]
    }
   ],
   "source": [
    "n = 99 \n",
    "num_list = []\n",
    "while n <= 300:\n",
    "    n += 1\n",
    "    if(n % 12 != 0):\n",
    "        continue\n",
    "    else:\n",
    "     num_list.append(n)\n",
    "print(\"El numero es\",num_list[0])\n"
   ]
  }
 ],
 "metadata": {
  "kernelspec": {
   "display_name": "Python 3",
   "language": "python",
   "name": "python3"
  },
  "language_info": {
   "codemirror_mode": {
    "name": "ipython",
    "version": 3
   },
   "file_extension": ".py",
   "mimetype": "text/x-python",
   "name": "python",
   "nbconvert_exporter": "python",
   "pygments_lexer": "ipython3",
   "version": "3.10.10"
  },
  "orig_nbformat": 4,
  "vscode": {
   "interpreter": {
    "hash": "66eba28a75a64fbe1a9b9c30d27f7c856726c51cbbef86297708eae4ce175db0"
   }
  }
 },
 "nbformat": 4,
 "nbformat_minor": 2
}
