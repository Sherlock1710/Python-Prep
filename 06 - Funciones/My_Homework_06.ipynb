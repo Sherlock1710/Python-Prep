{
 "cells": [
  {
   "attachments": {},
   "cell_type": "markdown",
   "metadata": {},
   "source": [
    "1) Crear una función que reciba un número como parámetro y devuelva si True si es primo y False si no lo es"
   ]
  },
  {
   "cell_type": "code",
   "execution_count": 29,
   "metadata": {},
   "outputs": [
    {
     "data": {
      "text/plain": [
       "False"
      ]
     },
     "execution_count": 29,
     "metadata": {},
     "output_type": "execute_result"
    }
   ],
   "source": [
    "def Esprimo(num):\n",
    "    for div in range(2,num):\n",
    "        if num % div == 0:\n",
    "            return False\n",
    "        else:\n",
    "            return True\n",
    "\n",
    "\n",
    "Esprimo(56375686578)"
   ]
  },
  {
   "attachments": {},
   "cell_type": "markdown",
   "metadata": {},
   "source": [
    "2) Utilizando la función del punto 1, realizar otra función que reciba de parámetro una lista de números y devuelva sólo aquellos que son primos en otra lista\n"
   ]
  },
  {
   "cell_type": "code",
   "execution_count": 40,
   "metadata": {},
   "outputs": [],
   "source": [
    "def extrae_primos_de_lista(lista):\n",
    "    lista_primos = []\n",
    "    for elemento in lista:\n",
    "        if Esprimo(int(elemento)):\n",
    "            lista_primos.append(elemento)\n",
    "    return lista_primos\n"
   ]
  },
  {
   "cell_type": "code",
   "execution_count": 42,
   "metadata": {},
   "outputs": [
    {
     "data": {
      "text/plain": [
       "[3, 5, 7, 9, 11, 13, 15, 17, 19]"
      ]
     },
     "execution_count": 42,
     "metadata": {},
     "output_type": "execute_result"
    }
   ],
   "source": [
    "lis_completa = [1,2,3,4,5,6,7,8,9,10,11,12,13,14,15,16,17,18,19,20]\n",
    "lis_primos = extrae_primos_de_lista(lis_completa)\n",
    "lis_primos"
   ]
  },
  {
   "attachments": {},
   "cell_type": "markdown",
   "metadata": {},
   "source": [
    "3) Crear una función que al recibir una lista de números, devuelva el que más se repite y cuántas veces lo hace. Si hay más de un \"más repetido\", que devuelva cualquiera"
   ]
  },
  {
   "cell_type": "code",
   "execution_count": 170,
   "metadata": {},
   "outputs": [],
   "source": [
    "from collections import Counter\n",
    "import statistics\n",
    "lista = [1,2,3,3,3,3,3,6,7,8,9,9,9,9,9]\n",
    "def mas_repetidos(list):\n",
    "    mode = statistics.mode(list)\n",
    "    count = Counter(list)\n",
    "    return mode,count[mode]\n",
    "      "
   ]
  },
  {
   "cell_type": "code",
   "execution_count": 171,
   "metadata": {},
   "outputs": [
    {
     "data": {
      "text/plain": [
       "(3, 5)"
      ]
     },
     "execution_count": 171,
     "metadata": {},
     "output_type": "execute_result"
    }
   ],
   "source": [
    "mas_repetidos(lista)"
   ]
  },
  {
   "attachments": {},
   "cell_type": "markdown",
   "metadata": {},
   "source": [
    "4) A la función del punto 3, agregar un parámetro más, que permita elegir si se requiere el menor o el mayor de los mas repetidos.\n"
   ]
  },
  {
   "cell_type": "code",
   "execution_count": 173,
   "metadata": {},
   "outputs": [],
   "source": [
    "from collections import Counter\n",
    "import statistics\n",
    "lista2 = [1,2,3,3,3,3,3,6,7,8,9,9,9,9,9]\n",
    "def mas_repetidos_max(list):\n",
    "    list.sort(reverse = True)\n",
    "    mode = statistics.mode(list)\n",
    "    count = Counter(list)\n",
    "    \n",
    "    return mode,count[mode]\n",
    "\n"
   ]
  },
  {
   "cell_type": "code",
   "execution_count": 174,
   "metadata": {},
   "outputs": [
    {
     "data": {
      "text/plain": [
       "(9, 5)"
      ]
     },
     "execution_count": 174,
     "metadata": {},
     "output_type": "execute_result"
    }
   ],
   "source": [
    "mas_repetidos_max(lista)\n"
   ]
  },
  {
   "attachments": {},
   "cell_type": "markdown",
   "metadata": {},
   "source": [
    "5) Crear una función que convierta entre grados Celsius, Farenheit y Kelvin<br>\n",
    "Fórmula 1\t: (°C × 9/5) + 32 = °F<br>\n",
    "Fórmula 2\t: °C + 273.15 = °K<br>\n",
    "Debe recibir 3 parámetros: el valor, la medida de orígen y la medida de destino\n"
   ]
  },
  {
   "cell_type": "code",
   "execution_count": 199,
   "metadata": {},
   "outputs": [],
   "source": [
    "def temperature_converter(num:int,scale:str,to:str):\n",
    "    if scale == \"celsius\" and to == \"kelvin\":\n",
    "        return num + 273.15\n",
    "    elif scale == \"celsius\" and to == \"farenheit\":\n",
    "        return num*(9/5)+32\n",
    "    elif scale == \"kelvin\" and to == \"celsius\":\n",
    "        return num - 273.15\n",
    "    elif scale == \"kelvin\" and to == \"farenheit\":\n",
    "        res = (num - 273.15)\n",
    "        return res*(9/5)+32\n",
    "    elif scale == \"farenheit\" and to == \"celsius\":\n",
    "        return (num-32)*(5/9)\n",
    "    elif scale == \"farenheit\" and to == \"kelvin\":\n",
    "        res = (num-32)*(5/9)\n",
    "        return res + 273.15\n",
    "    elif scale == to:\n",
    "        return num\n",
    "    else:\n",
    "        return \"Enter valid parameters\"\n",
    "\n"
   ]
  },
  {
   "cell_type": "code",
   "execution_count": 200,
   "metadata": {},
   "outputs": [
    {
     "data": {
      "text/plain": [
       "2"
      ]
     },
     "execution_count": 200,
     "metadata": {},
     "output_type": "execute_result"
    }
   ],
   "source": [
    "temperature_converter(2,\"farenheit\",\"farenheit\")"
   ]
  },
  {
   "attachments": {},
   "cell_type": "markdown",
   "metadata": {},
   "source": [
    "6) Iterando una lista con los tres valores posibles de temperatura que recibe la función del punto 5, hacer un print para cada combinación de los mismos:\n"
   ]
  },
  {
   "cell_type": "code",
   "execution_count": 201,
   "metadata": {},
   "outputs": [
    {
     "name": "stdout",
     "output_type": "stream",
     "text": [
      "1 celsius to celsius : 1\n",
      "1 celsius to kelvin : 274.15\n",
      "1 celsius to farenheit : 33.8\n",
      "1 kelvin to celsius : -272.15\n",
      "1 kelvin to kelvin : 1\n",
      "1 kelvin to farenheit : -457.86999999999995\n",
      "1 farenheit to celsius : -17.22222222222222\n",
      "1 farenheit to kelvin : 255.92777777777775\n",
      "1 farenheit to farenheit : 1\n"
     ]
    }
   ],
   "source": [
    "parameters = ['celsius','kelvin','farenheit']\n",
    "for i in range(0,3):\n",
    "    for j in range(0,3):\n",
    "        print('1', parameters[i], 'to', parameters[j],':', temperature_converter(1,parameters[i], parameters[j]))"
   ]
  },
  {
   "attachments": {},
   "cell_type": "markdown",
   "metadata": {},
   "source": [
    "7) Armar una función que devuelva el factorial de un número. Tener en cuenta que el usuario puede equivocarse y enviar de parámetro un número no entero o negativo\n"
   ]
  },
  {
   "cell_type": "code",
   "execution_count": 238,
   "metadata": {},
   "outputs": [],
   "source": [
    "def factorial(num:int):\n",
    "    if num > 0 and type(num)==int:\n",
    "        x=1\n",
    "        f=1\n",
    "        while x <= num:\n",
    "            f=f*x\n",
    "            x+=1\n",
    "        return \"The factorial of\",num,\"is\",f\n",
    "    elif num == 0 and type(num)==int:\n",
    "        return \"The factorial of\",num,\"is 1\"\n",
    "    else:\n",
    "        return \"The number must be a positive integer\""
   ]
  }
 ],
 "metadata": {
  "kernelspec": {
   "display_name": "Python 3",
   "language": "python",
   "name": "python3"
  },
  "language_info": {
   "codemirror_mode": {
    "name": "ipython",
    "version": 3
   },
   "file_extension": ".py",
   "mimetype": "text/x-python",
   "name": "python",
   "nbconvert_exporter": "python",
   "pygments_lexer": "ipython3",
   "version": "3.10.10"
  },
  "orig_nbformat": 4,
  "vscode": {
   "interpreter": {
    "hash": "66eba28a75a64fbe1a9b9c30d27f7c856726c51cbbef86297708eae4ce175db0"
   }
  }
 },
 "nbformat": 4,
 "nbformat_minor": 2
}
