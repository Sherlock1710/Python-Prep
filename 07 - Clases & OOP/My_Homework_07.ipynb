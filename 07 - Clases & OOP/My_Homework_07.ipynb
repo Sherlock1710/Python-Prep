{
 "cells": [
  {
   "cell_type": "code",
   "execution_count": 94,
   "metadata": {},
   "outputs": [],
   "source": [
    "from collections import Counter\n",
    "import statistics"
   ]
  },
  {
   "attachments": {},
   "cell_type": "markdown",
   "metadata": {},
   "source": [
    "1) Crear la clase vehículo que contenga los atributos:<br>\n",
    "Color<br>\n",
    "Si es moto, auto, camioneta ó camión<br>\n",
    "Cilindrada del motor\n"
   ]
  },
  {
   "cell_type": "code",
   "execution_count": 1,
   "metadata": {},
   "outputs": [],
   "source": [
    "class Vehicle:\n",
    "    def __init__(self,color, type,cc):\n",
    "        self.color = color\n",
    "        self.type = type\n",
    "        self.cc = cc\n"
   ]
  },
  {
   "attachments": {},
   "cell_type": "markdown",
   "metadata": {},
   "source": [
    "2) A la clase Vehiculo creada en el punto 1, agregar los siguientes métodos:<br>\n",
    "Acelerar<br>\n",
    "Frenar<br>\n",
    "Doblar<br>"
   ]
  },
  {
   "cell_type": "code",
   "execution_count": 47,
   "metadata": {},
   "outputs": [],
   "source": [
    "class Vehicle:\n",
    "    def __init__(self,color, type,cc):\n",
    "        self.color = color\n",
    "        self.type = type\n",
    "        self.cc = cc\n",
    "    def Accelerate(self):\n",
    "        return \"The vehicle is accelerating\"\n",
    "    def Brake(self):\n",
    "        return \"The vehicle is braking\"\n",
    "    def TurnRight(self):\n",
    "        return \"The vehicle is turning right\"\n",
    "    "
   ]
  },
  {
   "attachments": {},
   "cell_type": "markdown",
   "metadata": {},
   "source": [
    "3) Instanciar 3 objetos de la clase vehículo y ejecutar sus métodos, probar luego el resultado"
   ]
  },
  {
   "cell_type": "code",
   "execution_count": 48,
   "metadata": {},
   "outputs": [],
   "source": [
    "Kawasaki_Z100 = Vehicle('green','bike','1000cc')\n",
    "Ford_Mustang_GT = Vehicle('red','muscle car','5L')\n",
    "Ford_Raptor_f150 = Vehicle('black','truck', '3.5L')\n"
   ]
  },
  {
   "cell_type": "code",
   "execution_count": 44,
   "metadata": {},
   "outputs": [
    {
     "data": {
      "text/plain": [
       "'The vehicle is accelerating'"
      ]
     },
     "execution_count": 44,
     "metadata": {},
     "output_type": "execute_result"
    }
   ],
   "source": [
    "Kawasaki_Z100.Accelerate()\n",
    "    "
   ]
  },
  {
   "cell_type": "code",
   "execution_count": 45,
   "metadata": {},
   "outputs": [
    {
     "data": {
      "text/plain": [
       "'The vehicle is braking'"
      ]
     },
     "execution_count": 45,
     "metadata": {},
     "output_type": "execute_result"
    }
   ],
   "source": [
    "Ford_Mustang_GT.Brake()"
   ]
  },
  {
   "cell_type": "code",
   "execution_count": 49,
   "metadata": {},
   "outputs": [
    {
     "data": {
      "text/plain": [
       "'The vehicle is turning right'"
      ]
     },
     "execution_count": 49,
     "metadata": {},
     "output_type": "execute_result"
    }
   ],
   "source": [
    "Ford_Raptor_f150.TurnRight()"
   ]
  },
  {
   "attachments": {},
   "cell_type": "markdown",
   "metadata": {},
   "source": [
    "4) Agregar a la clase Vehiculo, un método que muestre su estado, es decir, a que velocidad se encuentra y su dirección. Y otro método que muestre color, tipo y cilindrada"
   ]
  },
  {
   "cell_type": "code",
   "execution_count": 54,
   "metadata": {},
   "outputs": [],
   "source": [
    "class Vehicle:\n",
    "    def __init__(self,color, type,cc):\n",
    "        self.color = color\n",
    "        self.type = type\n",
    "        self.cc = cc\n",
    "    def Accelerate(self):\n",
    "        return \"The vehicle is accelerating\"\n",
    "    def Brake(self):\n",
    "        return \"The vehicle is braking\"\n",
    "    def TurnRight(self):\n",
    "        return \"The vehicle is turning right\"\n",
    "    def ShowStatus(self):\n",
    "        return \"Speed: 70kmh, going North\"\n",
    "    def GetInfo(self):\n",
    "        return 'The vehicle is color',self.color,'its type is',self.type,'and its cc is',self.cc\n",
    "    "
   ]
  },
  {
   "cell_type": "code",
   "execution_count": 55,
   "metadata": {},
   "outputs": [],
   "source": [
    "Kawasaki_Z100 = Vehicle('green','bike','1000cc')\n",
    "Ford_Mustang_GT = Vehicle('red','muscle car','5L')\n",
    "Ford_Raptor_f150 = Vehicle('black','truck', '3.5L')\n"
   ]
  },
  {
   "cell_type": "code",
   "execution_count": 56,
   "metadata": {},
   "outputs": [
    {
     "data": {
      "text/plain": [
       "('The vehicle is color',\n",
       " 'green',\n",
       " 'its type is',\n",
       " 'bike',\n",
       " 'and its cc is',\n",
       " '1000cc')"
      ]
     },
     "execution_count": 56,
     "metadata": {},
     "output_type": "execute_result"
    }
   ],
   "source": [
    "Kawasaki_Z100.GetInfo()"
   ]
  },
  {
   "attachments": {},
   "cell_type": "markdown",
   "metadata": {},
   "source": [
    "5) Crear una clase que permita utilizar las funciones creadas en la práctica del módulo 6<br>\n",
    "Verificar Primo<br>\n",
    "Valor modal<br>\n",
    "Conversión grados<br>\n",
    "Factorial<br>"
   ]
  },
  {
   "cell_type": "code",
   "execution_count": 82,
   "metadata": {},
   "outputs": [],
   "source": [
    "class Operations:\n",
    "    def __init__(self, num:int):\n",
    "        self.num = num \n",
    "   \n",
    "    def factorial(self,num:int):\n",
    "        if num > 0 and type(num)==int:\n",
    "            x=1\n",
    "            f=1\n",
    "            while x <= num:\n",
    "                f=f*x\n",
    "                x+=1\n",
    "            return \"The factorial of\",num,\"is\",f\n",
    "        elif num == 0 and type(num)==int:\n",
    "            return \"The factorial of\",num,\"is 1\"\n",
    "        else:\n",
    "            return \"The number must be a positive integer\"\n",
    "    def temperature_converter(self,num:int,scale:str,to:str):\n",
    "        if scale == \"celsius\" and to == \"kelvin\":\n",
    "            return num + 273.15\n",
    "        elif scale == \"celsius\" and to == \"farenheit\":\n",
    "            return num*(9/5)+32\n",
    "        elif scale == \"kelvin\" and to == \"celsius\":\n",
    "            return num - 273.15\n",
    "        elif scale == \"kelvin\" and to == \"farenheit\":\n",
    "            res = (num - 273.15)\n",
    "            return res*(9/5)+32\n",
    "        elif scale == \"farenheit\" and to == \"celsius\":\n",
    "            return (num-32)*(5/9)\n",
    "        elif scale == \"farenheit\" and to == \"kelvin\":\n",
    "            res = (num-32)*(5/9)\n",
    "            return res + 273.15\n",
    "        elif scale == to:\n",
    "            return num\n",
    "        else:\n",
    "            return \"Enter valid parameters\"\n",
    "\n",
    "    def mode(self,list):\n",
    "        mode = statistics.mode(list)\n",
    "        count = Counter(list)\n",
    "        return mode,count[mode]   \n",
    "    \n",
    "    def is_prime(self,num):\n",
    "        for div in range(2,num):\n",
    "            if num % div == 0:\n",
    "                return False\n",
    "            else:\n",
    "                return True"
   ]
  },
  {
   "attachments": {},
   "cell_type": "markdown",
   "metadata": {},
   "source": [
    "6) Probar las funciones incorporadas en la clase del punto 5\n"
   ]
  },
  {
   "cell_type": "code",
   "execution_count": 83,
   "metadata": {},
   "outputs": [],
   "source": [
    "n1 = Operations(1)\n",
    "n2 = Operations(2)\n",
    "n3 = Operations(3)\n",
    "n4 = Operations(4)"
   ]
  },
  {
   "cell_type": "code",
   "execution_count": 87,
   "metadata": {},
   "outputs": [
    {
     "data": {
      "text/plain": [
       "True"
      ]
     },
     "execution_count": 87,
     "metadata": {},
     "output_type": "execute_result"
    }
   ],
   "source": [
    "n1.is_prime(7)"
   ]
  },
  {
   "cell_type": "code",
   "execution_count": 88,
   "metadata": {},
   "outputs": [
    {
     "data": {
      "text/plain": [
       "('The factorial of', 2, 'is', 2)"
      ]
     },
     "execution_count": 88,
     "metadata": {},
     "output_type": "execute_result"
    }
   ],
   "source": [
    "n2.factorial(2)"
   ]
  },
  {
   "cell_type": "code",
   "execution_count": 89,
   "metadata": {},
   "outputs": [
    {
     "data": {
      "text/plain": [
       "333.15"
      ]
     },
     "execution_count": 89,
     "metadata": {},
     "output_type": "execute_result"
    }
   ],
   "source": [
    "n3.temperature_converter(60,\"celsius\",\"kelvin\")"
   ]
  },
  {
   "cell_type": "code",
   "execution_count": 96,
   "metadata": {},
   "outputs": [
    {
     "data": {
      "text/plain": [
       "('e', 5)"
      ]
     },
     "execution_count": 96,
     "metadata": {},
     "output_type": "execute_result"
    }
   ],
   "source": [
    "n4.mode(['x','d','f','g','e','e','e','e','e'])"
   ]
  },
  {
   "attachments": {},
   "cell_type": "markdown",
   "metadata": {},
   "source": [
    "7) Es necesario que la clase creada en el punto 5 contenga una lista, sobre la cual se aplquen las funciones incorporadas\n"
   ]
  },
  {
   "cell_type": "code",
   "execution_count": 1,
   "metadata": {},
   "outputs": [],
   "source": [
    "class Operations:\n",
    "    def __init__(self, list:list):\n",
    "        self.list = list\n",
    "   \n",
    "    def factorial(self,num:int):\n",
    "        if num > 0 and type(num)==int:\n",
    "            x=1\n",
    "            f=1\n",
    "            while x <= num:\n",
    "                f=f*x\n",
    "                x+=1\n",
    "            return \"The factorial of\",num,\"is\",f\n",
    "        elif num == 0 and type(num)==int:\n",
    "            return \"The factorial of\",num,\"is 1\"\n",
    "        else:\n",
    "            return \"The number must be a positive integer\"\n",
    "    def temperature_converter(self,num:int,scale:str,to:str):\n",
    "        if scale == \"celsius\" and to == \"kelvin\":\n",
    "            return num + 273.15\n",
    "        elif scale == \"celsius\" and to == \"farenheit\":\n",
    "            return num*(9/5)+32\n",
    "        elif scale == \"kelvin\" and to == \"celsius\":\n",
    "            return num - 273.15\n",
    "        elif scale == \"kelvin\" and to == \"farenheit\":\n",
    "            res = (num - 273.15)\n",
    "            return res*(9/5)+32\n",
    "        elif scale == \"farenheit\" and to == \"celsius\":\n",
    "            return (num-32)*(5/9)\n",
    "        elif scale == \"farenheit\" and to == \"kelvin\":\n",
    "            res = (num-32)*(5/9)\n",
    "            return res + 273.15\n",
    "        elif scale == to:\n",
    "            return num\n",
    "        else:\n",
    "            return \"Enter valid parameters\"\n",
    "\n",
    "    def mode(self,list):\n",
    "        mode = statistics.mode(list)\n",
    "        count = Counter(list)\n",
    "        return mode,count[mode]   \n",
    "    \n",
    "    def is_prime(self,num):\n",
    "        for div in range(2,num):\n",
    "            if num % div == 0:\n",
    "                return False\n",
    "            else:\n",
    "                return True"
   ]
  },
  {
   "cell_type": "code",
   "execution_count": 4,
   "metadata": {},
   "outputs": [
    {
     "data": {
      "text/plain": [
       "('The factorial of', 5, 'is', 120)"
      ]
     },
     "execution_count": 4,
     "metadata": {},
     "output_type": "execute_result"
    }
   ],
   "source": [
    "n5 = Operations([1,1,2,5,8,8,9,11,15,16,16,16,18,20])\n",
    "n5.factorial(5)"
   ]
  },
  {
   "attachments": {},
   "cell_type": "markdown",
   "metadata": {},
   "source": [
    "\n",
    "8) Crear un archivo .py aparte y ubicar allí la clase generada en el punto anterior. Luego realizar la importación del módulo y probar alguna de sus funciones\n"
   ]
  },
  {
   "cell_type": "code",
   "execution_count": null,
   "metadata": {},
   "outputs": [],
   "source": []
  }
 ],
 "metadata": {
  "kernelspec": {
   "display_name": "Python 3",
   "language": "python",
   "name": "python3"
  },
  "language_info": {
   "codemirror_mode": {
    "name": "ipython",
    "version": 3
   },
   "file_extension": ".py",
   "mimetype": "text/x-python",
   "name": "python",
   "nbconvert_exporter": "python",
   "pygments_lexer": "ipython3",
   "version": "3.10.10"
  },
  "orig_nbformat": 4,
  "vscode": {
   "interpreter": {
    "hash": "66eba28a75a64fbe1a9b9c30d27f7c856726c51cbbef86297708eae4ce175db0"
   }
  }
 },
 "nbformat": 4,
 "nbformat_minor": 2
}
